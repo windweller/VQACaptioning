{
 "cells": [
  {
   "cell_type": "code",
   "execution_count": 18,
   "metadata": {},
   "outputs": [],
   "source": [
    "from collections import defaultdict\n",
    "import pandas as pd"
   ]
  },
  {
   "cell_type": "code",
   "execution_count": 19,
   "metadata": {},
   "outputs": [],
   "source": [
    "def format_item(ex_num, ans_max=16):\n",
    "    divs = []\n",
    "    for opt_num in range(ans_max+1):          \n",
    "        div = option_div(ex_num, opt_num)\n",
    "        divs.append(div) \n",
    "    divs = \"\\n\".join(divs)\n",
    "    question = f\"Item_{ex_num}_Question\"\n",
    "    caption = f\"Item_{ex_num}_Caption\"\n",
    "    return f\"\"\"\n",
    "        <fieldset><label>{ex_num}</label> \n",
    "        <p>Question: <strong>${{{question}}}</strong></p>\n",
    "        <p>Caption: <strong>${{{caption}}}</strong></p>\n",
    "\n",
    "        <p>Select the answer conveyed by the caption, or indicate that the caption doesn't provide an answer:</p>\n",
    "\n",
    "        {divs}\n",
    "\n",
    "        </fieldset>\n",
    "        \"\"\"\n",
    "\n",
    "def option_div(ex_num, opt_num):\n",
    "    var = f\"Item_{ex_num}_Answer_{opt_num}\"\n",
    "    ident = f\"question{ex_num}answer{opt_num}\"\n",
    "    return f\"\"\"\n",
    "<div class=\"rgroup\">\n",
    "    <input id=\"{ident}\" name=\"question{ex_num}answer\" type=\"radio\" value=\"${{{var}}}\" /> \n",
    "    <label for=\"{ident}\">${{{var}}}</label>\n",
    "</div>\"\"\""
   ]
  },
  {
   "cell_type": "code",
   "execution_count": 20,
   "metadata": {},
   "outputs": [],
   "source": [
    "def format_page(n_items=13, template_filename=\"template.html\", output_filename=\"hit-contents.html\"):\n",
    "    item_divs = [format_item(n) for n in range(1, n_items+1)]\n",
    "    item_divs = \"\\n\".join(item_divs)\n",
    "    with open(template_filename) as f:\n",
    "        contents = f.read()\n",
    "    contents = contents.replace(\"${HIT_ITEMS}\", item_divs)\n",
    "    with open(output_filename, \"wt\") as f:\n",
    "        f.write(contents)"
   ]
  },
  {
   "cell_type": "code",
   "execution_count": 21,
   "metadata": {},
   "outputs": [],
   "source": [
    "format_page()"
   ]
  },
  {
   "cell_type": "code",
   "execution_count": null,
   "metadata": {},
   "outputs": [],
   "source": []
  }
 ],
 "metadata": {
  "kernelspec": {
   "display_name": "Python 3",
   "language": "python",
   "name": "python3"
  },
  "language_info": {
   "codemirror_mode": {
    "name": "ipython",
    "version": 3
   },
   "file_extension": ".py",
   "mimetype": "text/x-python",
   "name": "python",
   "nbconvert_exporter": "python",
   "pygments_lexer": "ipython3",
   "version": "3.6.7"
  }
 },
 "nbformat": 4,
 "nbformat_minor": 2
}
