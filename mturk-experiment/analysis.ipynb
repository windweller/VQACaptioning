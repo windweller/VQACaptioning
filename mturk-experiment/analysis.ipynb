{
 "cells": [
  {
   "cell_type": "code",
   "execution_count": 1,
   "metadata": {},
   "outputs": [],
   "source": [
    "import json\n",
    "import pandas as pd"
   ]
  },
  {
   "cell_type": "code",
   "execution_count": 2,
   "metadata": {},
   "outputs": [],
   "source": [
    "# dfs = [\n",
    "#     pd.read_csv(\"Batch_4042437_batch_results.csv\"),\n",
    "#     pd.read_csv(\"Batch_4043980_batch_results.csv\")]\n",
    "\n",
    "dfs = [pd.read_csv(\"Batch_4060567_batch_results.csv\")]\n",
    "\n",
    "df = pd.concat(dfs)"
   ]
  },
  {
   "cell_type": "code",
   "execution_count": 15,
   "metadata": {},
   "outputs": [
    {
     "data": {
      "text/plain": [
       "(105, 329)"
      ]
     },
     "execution_count": 15,
     "metadata": {},
     "output_type": "execute_result"
    }
   ],
   "source": [
    "df.shape"
   ]
  },
  {
   "cell_type": "code",
   "execution_count": 3,
   "metadata": {},
   "outputs": [],
   "source": [
    "no_answer = \"The caption does not contain an answer to the question\""
   ]
  },
  {
   "cell_type": "code",
   "execution_count": 4,
   "metadata": {
    "scrolled": false
   },
   "outputs": [],
   "source": [
    "tmp = df[[c for c in df.columns if 'Item_10' in c]]"
   ]
  },
  {
   "cell_type": "code",
   "execution_count": 5,
   "metadata": {},
   "outputs": [],
   "source": [
    "def convert_responses(row):\n",
    "    results = {}\n",
    "    s = row['Answer.taskAnswers']\n",
    "    data = json.loads(s)[0]    \n",
    "    for q, vals in data.items():\n",
    "        if 'question' in q:\n",
    "            for a, v in vals.items():\n",
    "                if v == True:\n",
    "                    q = q.replace(\"question\", \"\").replace(\"answer\", \"\")\n",
    "                    results[q] = a\n",
    "    return results\n",
    "\n",
    "def process_row(row):\n",
    "    data = {}\n",
    "    correct = {}\n",
    "    responses = convert_responses(row)\n",
    "    for k, v in row.items():\n",
    "        if '_Condition' in k:\n",
    "            k = k.replace('Input.Item_', '').replace('_Condition', '')\n",
    "            data[k] = v\n",
    "        if 'True_Answers_Indices' in k:\n",
    "            k = k.replace('Input.Item_', '').replace('_True_Answers_Indices', '')\n",
    "            correct[k] = tuple([int(i) for i in v.split(\",\")])\n",
    "    output = []\n",
    "    for k, v in data.items():\n",
    "        d = {\"Condition\": v, \n",
    "             \"Response\": responses[k], \n",
    "             \"ResponseIndex\": int(k), \n",
    "             'CorrectAnswers': correct[k]}\n",
    "        output.append(d)    \n",
    "    return output\n",
    "\n",
    "def process_all(df):\n",
    "    results = []\n",
    "    for _, row in df.iterrows():\n",
    "        results += process_row(row)    \n",
    "    return pd.DataFrame(results)"
   ]
  },
  {
   "cell_type": "code",
   "execution_count": 6,
   "metadata": {},
   "outputs": [],
   "source": [
    "results = process_all(df)"
   ]
  },
  {
   "cell_type": "code",
   "execution_count": 7,
   "metadata": {},
   "outputs": [],
   "source": [
    "results['CorrectResponse'] = results.apply(\n",
    "    lambda x: x['ResponseIndex'] in x['CorrectAnswers'], axis=1)"
   ]
  },
  {
   "cell_type": "code",
   "execution_count": 8,
   "metadata": {},
   "outputs": [
    {
     "data": {
      "text/html": [
       "<div>\n",
       "<style scoped>\n",
       "    .dataframe tbody tr th:only-of-type {\n",
       "        vertical-align: middle;\n",
       "    }\n",
       "\n",
       "    .dataframe tbody tr th {\n",
       "        vertical-align: top;\n",
       "    }\n",
       "\n",
       "    .dataframe thead th {\n",
       "        text-align: right;\n",
       "    }\n",
       "</style>\n",
       "<table border=\"1\" class=\"dataframe\">\n",
       "  <thead>\n",
       "    <tr style=\"text-align: right;\">\n",
       "      <th></th>\n",
       "      <th>Condition</th>\n",
       "      <th>Response</th>\n",
       "      <th>ResponseIndex</th>\n",
       "      <th>CorrectAnswers</th>\n",
       "      <th>CorrectResponse</th>\n",
       "    </tr>\n",
       "  </thead>\n",
       "  <tbody>\n",
       "    <tr>\n",
       "      <td>0</td>\n",
       "      <td>S0_caption</td>\n",
       "      <td>The caption does not contain an answer to the ...</td>\n",
       "      <td>1</td>\n",
       "      <td>(10,)</td>\n",
       "      <td>False</td>\n",
       "    </tr>\n",
       "    <tr>\n",
       "      <td>1</td>\n",
       "      <td>S1_caption</td>\n",
       "      <td>grey</td>\n",
       "      <td>2</td>\n",
       "      <td>(6, 7, 11)</td>\n",
       "      <td>False</td>\n",
       "    </tr>\n",
       "    <tr>\n",
       "      <td>2</td>\n",
       "      <td>S1-Q_caption</td>\n",
       "      <td>The caption does not contain an answer to the ...</td>\n",
       "      <td>3</td>\n",
       "      <td>(13,)</td>\n",
       "      <td>False</td>\n",
       "    </tr>\n",
       "    <tr>\n",
       "      <td>3</td>\n",
       "      <td>S1-QH_caption</td>\n",
       "      <td>The caption does not contain an answer to the ...</td>\n",
       "      <td>4</td>\n",
       "      <td>(1,)</td>\n",
       "      <td>False</td>\n",
       "    </tr>\n",
       "    <tr>\n",
       "      <td>4</td>\n",
       "      <td>Human_Caption</td>\n",
       "      <td>The caption does not contain an answer to the ...</td>\n",
       "      <td>5</td>\n",
       "      <td>(11,)</td>\n",
       "      <td>False</td>\n",
       "    </tr>\n",
       "  </tbody>\n",
       "</table>\n",
       "</div>"
      ],
      "text/plain": [
       "       Condition                                           Response  \\\n",
       "0     S0_caption  The caption does not contain an answer to the ...   \n",
       "1     S1_caption                                               grey   \n",
       "2   S1-Q_caption  The caption does not contain an answer to the ...   \n",
       "3  S1-QH_caption  The caption does not contain an answer to the ...   \n",
       "4  Human_Caption  The caption does not contain an answer to the ...   \n",
       "\n",
       "   ResponseIndex CorrectAnswers  CorrectResponse  \n",
       "0              1          (10,)            False  \n",
       "1              2     (6, 7, 11)            False  \n",
       "2              3          (13,)            False  \n",
       "3              4           (1,)            False  \n",
       "4              5          (11,)            False  "
      ]
     },
     "execution_count": 8,
     "metadata": {},
     "output_type": "execute_result"
    }
   ],
   "source": [
    "results.head()"
   ]
  },
  {
   "cell_type": "code",
   "execution_count": 9,
   "metadata": {},
   "outputs": [],
   "source": [
    "results['conveys_answer'] = results['Response'] != no_answer"
   ]
  },
  {
   "cell_type": "code",
   "execution_count": 10,
   "metadata": {},
   "outputs": [],
   "source": [
    "xtab = pd.crosstab(results['Condition'], results['conveys_answer'])"
   ]
  },
  {
   "cell_type": "code",
   "execution_count": 11,
   "metadata": {},
   "outputs": [],
   "source": [
    "per = (xtab.T / xtab.T.sum()).T"
   ]
  },
  {
   "cell_type": "code",
   "execution_count": 16,
   "metadata": {},
   "outputs": [
    {
     "data": {
      "text/plain": [
       "Condition\n",
       "S0_caption       0.20879\n",
       "S1_caption       0.24542\n",
       "Human_Caption    0.33333\n",
       "S1-QH_caption    0.42125\n",
       "S1-Q_caption     0.43956\n",
       "Name: True, dtype: float64"
      ]
     },
     "execution_count": 16,
     "metadata": {},
     "output_type": "execute_result"
    }
   ],
   "source": [
    "per[True].sort_values().round(5)"
   ]
  },
  {
   "cell_type": "code",
   "execution_count": 13,
   "metadata": {},
   "outputs": [],
   "source": [
    "xtab = pd.crosstab(results['Condition'], results['CorrectResponse'])"
   ]
  },
  {
   "cell_type": "code",
   "execution_count": 14,
   "metadata": {},
   "outputs": [
    {
     "data": {
      "text/html": [
       "<div>\n",
       "<style scoped>\n",
       "    .dataframe tbody tr th:only-of-type {\n",
       "        vertical-align: middle;\n",
       "    }\n",
       "\n",
       "    .dataframe tbody tr th {\n",
       "        vertical-align: top;\n",
       "    }\n",
       "\n",
       "    .dataframe thead th {\n",
       "        text-align: right;\n",
       "    }\n",
       "</style>\n",
       "<table border=\"1\" class=\"dataframe\">\n",
       "  <thead>\n",
       "    <tr style=\"text-align: right;\">\n",
       "      <th>CorrectResponse</th>\n",
       "      <th>False</th>\n",
       "      <th>True</th>\n",
       "    </tr>\n",
       "    <tr>\n",
       "      <th>Condition</th>\n",
       "      <th></th>\n",
       "      <th></th>\n",
       "    </tr>\n",
       "  </thead>\n",
       "  <tbody>\n",
       "    <tr>\n",
       "      <td>Human_Caption</td>\n",
       "      <td>252</td>\n",
       "      <td>21</td>\n",
       "    </tr>\n",
       "    <tr>\n",
       "      <td>S0_caption</td>\n",
       "      <td>252</td>\n",
       "      <td>21</td>\n",
       "    </tr>\n",
       "    <tr>\n",
       "      <td>S1-QH_caption</td>\n",
       "      <td>252</td>\n",
       "      <td>21</td>\n",
       "    </tr>\n",
       "    <tr>\n",
       "      <td>S1-Q_caption</td>\n",
       "      <td>252</td>\n",
       "      <td>21</td>\n",
       "    </tr>\n",
       "    <tr>\n",
       "      <td>S1_caption</td>\n",
       "      <td>252</td>\n",
       "      <td>21</td>\n",
       "    </tr>\n",
       "  </tbody>\n",
       "</table>\n",
       "</div>"
      ],
      "text/plain": [
       "CorrectResponse  False  True \n",
       "Condition                    \n",
       "Human_Caption      252     21\n",
       "S0_caption         252     21\n",
       "S1-QH_caption      252     21\n",
       "S1-Q_caption       252     21\n",
       "S1_caption         252     21"
      ]
     },
     "execution_count": 14,
     "metadata": {},
     "output_type": "execute_result"
    }
   ],
   "source": [
    "xtab"
   ]
  },
  {
   "cell_type": "code",
   "execution_count": null,
   "metadata": {},
   "outputs": [],
   "source": [
    "results.shape"
   ]
  },
  {
   "cell_type": "code",
   "execution_count": null,
   "metadata": {},
   "outputs": [],
   "source": []
  }
 ],
 "metadata": {
  "kernelspec": {
   "display_name": "Python 3",
   "language": "python",
   "name": "python3"
  },
  "language_info": {
   "codemirror_mode": {
    "name": "ipython",
    "version": 3
   },
   "file_extension": ".py",
   "mimetype": "text/x-python",
   "name": "python",
   "nbconvert_exporter": "python",
   "pygments_lexer": "ipython3",
   "version": "3.6.7"
  }
 },
 "nbformat": 4,
 "nbformat_minor": 2
}
