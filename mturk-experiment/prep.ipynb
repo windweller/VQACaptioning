{
 "cells": [
  {
   "cell_type": "code",
   "execution_count": 59,
   "metadata": {},
   "outputs": [],
   "source": [
    "from collections import defaultdict\n",
    "import json\n",
    "import pandas as pd"
   ]
  },
  {
   "cell_type": "code",
   "execution_count": 78,
   "metadata": {},
   "outputs": [],
   "source": [
    "df = pd.read_csv(\"MTurk_key_value_experiment_data_fixed.csv\")"
   ]
  },
  {
   "cell_type": "code",
   "execution_count": 79,
   "metadata": {},
   "outputs": [
    {
     "data": {
      "text/plain": [
       "(38555, 26)"
      ]
     },
     "execution_count": 79,
     "metadata": {},
     "output_type": "execute_result"
    }
   ],
   "source": [
    "df.shape"
   ]
  },
  {
   "cell_type": "code",
   "execution_count": 80,
   "metadata": {
    "scrolled": true
   },
   "outputs": [],
   "source": [
    "# For round 1\n",
    "df = df[df.Question.str.contains(r\"\\b(?:upper|under)\\b\", regex=True)==False]\n",
    "df.columns = [c.replace(\" \", \"_\") for c in df.columns]\n",
    "\n",
    "conditions = ['Human_Caption', 'S0_caption', 'S1_caption', 'S1-Q_caption', 'S1-QH_caption']\n",
    "\n",
    "n_conditions = len(conditions)\n",
    "\n",
    "conditions, samp_images = prep_data(df, n_examples_per_question=20)"
   ]
  },
  {
   "cell_type": "code",
   "execution_count": 81,
   "metadata": {},
   "outputs": [],
   "source": [
    "fmt = format_condition(conditions, \"pilot-01.csv\")"
   ]
  },
  {
   "cell_type": "code",
   "execution_count": 82,
   "metadata": {},
   "outputs": [],
   "source": [
    "with open(\"pilot-01-images.json\", \"wt\") as f:\n",
    "    json.dump(samp_images, f, indent=2)"
   ]
  },
  {
   "cell_type": "code",
   "execution_count": 83,
   "metadata": {},
   "outputs": [],
   "source": [
    "# For round 2, exclude images used in round 1:\n",
    "\n",
    "df = pd.read_csv(\"MTurk_key_value_experiment_data_fixed.csv\")\n",
    "\n",
    "with open(\"pilot-01-images.json\") as f:    \n",
    "    previous_images = json.load(f)\n",
    "    \n",
    "df = df[df.ImageID.isin(previous_images)==False]    "
   ]
  },
  {
   "cell_type": "code",
   "execution_count": 84,
   "metadata": {},
   "outputs": [
    {
     "data": {
      "text/plain": [
       "(36420, 26)"
      ]
     },
     "execution_count": 84,
     "metadata": {},
     "output_type": "execute_result"
    }
   ],
   "source": [
    "df.shape"
   ]
  },
  {
   "cell_type": "code",
   "execution_count": 85,
   "metadata": {},
   "outputs": [
    {
     "data": {
      "text/plain": [
       "(17,)"
      ]
     },
     "execution_count": 85,
     "metadata": {},
     "output_type": "execute_result"
    }
   ],
   "source": [
    "df.Question.unique().shape"
   ]
  },
  {
   "cell_type": "code",
   "execution_count": 86,
   "metadata": {},
   "outputs": [],
   "source": [
    "df = df[df.Question.str.contains(r\"\\b(?:upper|under)\\b\", regex=True)==False]"
   ]
  },
  {
   "cell_type": "code",
   "execution_count": 87,
   "metadata": {},
   "outputs": [
    {
     "data": {
      "text/plain": [
       "(15,)"
      ]
     },
     "execution_count": 87,
     "metadata": {},
     "output_type": "execute_result"
    }
   ],
   "source": [
    "df.Question.unique().shape"
   ]
  },
  {
   "cell_type": "code",
   "execution_count": 88,
   "metadata": {},
   "outputs": [],
   "source": [
    "df.columns = [c.replace(\" \", \"_\") for c in df.columns]"
   ]
  },
  {
   "cell_type": "code",
   "execution_count": 89,
   "metadata": {},
   "outputs": [],
   "source": [
    "conditions = ['Human_Caption', 'S0_caption', 'S1_caption', 'S1-Q_caption', 'S1-QH_caption']\n",
    "\n",
    "n_conditions = len(conditions)"
   ]
  },
  {
   "cell_type": "code",
   "execution_count": 90,
   "metadata": {},
   "outputs": [],
   "source": [
    "def prep_data(df, n_examples_per_question=20):\n",
    "    \n",
    "    # Even distribution across questions:\n",
    "    samp = df.groupby('Question').apply(lambda x: x.sample(n_examples_per_question))\n",
    "    \n",
    "    samp = samp.sample(frac=1)\n",
    "            \n",
    "    data = defaultdict(list)    \n",
    "    starter = 0\n",
    "    for i, row in samp.iterrows():\n",
    "        for j in range(n_conditions):     \n",
    "            # Latin Square cycle step:\n",
    "            cond = conditions[(starter+j) % n_conditions]\n",
    "            task = {}\n",
    "            task['ImageID'] = row['ImageID']\n",
    "            task['Question'] = row['Question']\n",
    "            task['Caption'] = row[cond]\n",
    "            task['Condition'] = cond\n",
    "            for colname in df.columns:\n",
    "                if 'Answer' in colname:\n",
    "                    val = \"\" if pd.isnull(row[colname]) else row[colname]\n",
    "                    if val == \"Question is discussed in caption but answer options are too different\":\n",
    "                        val = \"The caption answers the question, but not with one of the above options\"\n",
    "                    elif val == \"None of the above\":\n",
    "                        val = \"The caption does not contain an answer to the question\"                                        \n",
    "                    task[colname] = val                \n",
    "            data[j].append(task) \n",
    "        # Move the Latin Square cycle forward:\n",
    "        starter += 1\n",
    "    \n",
    "    # Save these so that we don't reuse them if we run more experiments\n",
    "    samp_images = list(samp['ImageID'].values)\n",
    "    \n",
    "    return data, samp_images"
   ]
  },
  {
   "cell_type": "code",
   "execution_count": 91,
   "metadata": {},
   "outputs": [],
   "source": [
    "conditions, samp_images = prep_data(df, n_examples_per_question=20)"
   ]
  },
  {
   "cell_type": "code",
   "execution_count": 92,
   "metadata": {},
   "outputs": [],
   "source": [
    "def format_condition(conditions, output_filename, hit_size=13):\n",
    "    data = []\n",
    "    for condition in conditions.values():\n",
    "        for i in range(1, len(condition), hit_size+1):\n",
    "            hit_dict = {}\n",
    "            hit_items = condition[i: i+hit_size]        \n",
    "            for item_num, item in enumerate(hit_items, start=1):\n",
    "                item = {f\"Item_{item_num}_{k}\": v for k, v in item.items()}\n",
    "                hit_dict.update(item)\n",
    "            data.append(hit_dict)    \n",
    "    df = pd.DataFrame(data)\n",
    "    df.to_csv(output_filename, index=None)\n",
    "    return df"
   ]
  },
  {
   "cell_type": "code",
   "execution_count": 93,
   "metadata": {},
   "outputs": [],
   "source": [
    "fmt = format_condition(conditions, \"pilot-02.csv\")"
   ]
  },
  {
   "cell_type": "code",
   "execution_count": 94,
   "metadata": {},
   "outputs": [
    {
     "data": {
      "text/plain": [
       "(110, 299)"
      ]
     },
     "execution_count": 94,
     "metadata": {},
     "output_type": "execute_result"
    }
   ],
   "source": [
    "fmt.shape"
   ]
  },
  {
   "cell_type": "code",
   "execution_count": 95,
   "metadata": {},
   "outputs": [],
   "source": [
    "with open(\"pilot-02-images.json\", \"wt\") as f:\n",
    "    json.dump(samp_images, f, indent=2)"
   ]
  },
  {
   "cell_type": "code",
   "execution_count": null,
   "metadata": {},
   "outputs": [],
   "source": []
  }
 ],
 "metadata": {
  "kernelspec": {
   "display_name": "Python 3",
   "language": "python",
   "name": "python3"
  },
  "language_info": {
   "codemirror_mode": {
    "name": "ipython",
    "version": 3
   },
   "file_extension": ".py",
   "mimetype": "text/x-python",
   "name": "python",
   "nbconvert_exporter": "python",
   "pygments_lexer": "ipython3",
   "version": "3.6.7"
  }
 },
 "nbformat": 4,
 "nbformat_minor": 2
}
